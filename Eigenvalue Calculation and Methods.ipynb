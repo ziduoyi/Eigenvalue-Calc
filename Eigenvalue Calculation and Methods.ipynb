{
 "cells": [
  {
   "cell_type": "code",
   "execution_count": 2,
   "metadata": {},
   "outputs": [
    {
     "data": {
      "text/plain": [
       "power_method (generic function with 3 methods)"
      ]
     },
     "execution_count": 2,
     "metadata": {},
     "output_type": "execute_result"
    }
   ],
   "source": [
    "function power_method(A::AbstractMatrix, max_iter::Int=100, tol::Float64=1e-6)\n",
    "    n = size(A, 1)\n",
    "    x = rand(n)  # Start with a random initial vector\n",
    "    x /= norm(x)  # Normalize\n",
    "    λ_old = 0.0\n",
    "    for iter in 1:max_iter\n",
    "        x = A * x\n",
    "        x /= norm(x)  # Normalize\n",
    "        λ_new = dot(x, A * x) / dot(x, x)  # Rayleigh quotient\n",
    "        if abs(λ_new - λ_old) < tol\n",
    "            return true, x, λ_new  # Converged\n",
    "        end\n",
    "        λ_old = λ_new\n",
    "    end\n",
    "    return false, x, λ_old  # Did not converge within max_iter\n",
    "end\n"
   ]
  },
  {
   "cell_type": "code",
   "execution_count": 3,
   "metadata": {},
   "outputs": [
    {
     "data": {
      "text/plain": [
       "qr_method (generic function with 3 methods)"
      ]
     },
     "execution_count": 3,
     "metadata": {},
     "output_type": "execute_result"
    }
   ],
   "source": [
    "function qr_method(A::AbstractMatrix, max_iter::Int=100, tol::Float64=1e-6)\n",
    "    Ak = A\n",
    "    for iter in 1:max_iter\n",
    "        Q, R = qr(Ak)  # QR decomposition\n",
    "        Ak = R * Q  # Update Ak\n",
    "        if maximum(abs.(Ak .- Diagonal(diag(Ak)))) < tol\n",
    "            return true, diag(Ak)  # Converged: Return eigenvalues\n",
    "        end\n",
    "    end\n",
    "    return false, diag(Ak)  # Did not converge within max_iter\n",
    "end\n"
   ]
  },
  {
   "cell_type": "code",
   "execution_count": 4,
   "metadata": {},
   "outputs": [
    {
     "name": "stdout",
     "output_type": "stream",
     "text": [
      "Testing Power and QR Methods\n",
      "\n",
      "Symmetric Matrix: size=10, eigen_gap=25.00\n",
      "  Power Method converged? true\n",
      "  Largest eigenvalue (Power Method): 0.9999999999968708\n",
      "  QR Method converged? true\n",
      "Symmetric Matrix: size=10, eigen_gap=5.00\n",
      "  Power Method converged? true\n",
      "  Largest eigenvalue (Power Method): 0.9999999603381332\n",
      "  QR Method converged? true\n",
      "Symmetric Matrix: size=10, eigen_gap=1.00\n",
      "  Power Method converged? true\n",
      "  Largest eigenvalue (Power Method): 0.9999999069879087\n",
      "  QR Method converged? true\n",
      "Non-symmetric Matrix: size=10\n",
      "  Power Method converged? false\n",
      "  QR Method converged? false\n",
      "Symmetric Matrix: size=100, eigen_gap=25.00\n",
      "  Power Method converged? true\n",
      "  Largest eigenvalue (Power Method): 0.9999999999957403\n",
      "  QR Method converged? true\n",
      "Symmetric Matrix: size=100, eigen_gap=5.00\n",
      "  Power Method converged? true\n",
      "  Largest eigenvalue (Power Method): 0.9999999998417708\n",
      "  QR Method converged? true\n",
      "Symmetric Matrix: size=100, eigen_gap=1.00\n",
      "  Power Method converged? true\n",
      "  Largest eigenvalue (Power Method): 0.9999996851552266\n",
      "  QR Method converged? true\n",
      "Non-symmetric Matrix: size=100\n",
      "  Power Method converged? false\n",
      "  QR Method converged? false\n",
      "Symmetric Matrix: size=1000, eigen_gap=25.00\n",
      "  Power Method converged? true\n",
      "  Largest eigenvalue (Power Method): 0.9999999999846713\n",
      "  QR Method converged? true\n",
      "Symmetric Matrix: size=1000, eigen_gap=5.00\n",
      "  Power Method converged? true\n",
      "  Largest eigenvalue (Power Method): 0.9999999979488923\n",
      "  QR Method converged? true\n",
      "Symmetric Matrix: size=1000, eigen_gap=1.00\n",
      "  Power Method converged? true\n",
      "  Largest eigenvalue (Power Method): 0.9999998478094786\n",
      "  QR Method converged? true\n",
      "Non-symmetric Matrix: size=1000\n",
      "  Power Method converged? false\n",
      "  QR Method converged? false\n"
     ]
    }
   ],
   "source": [
    "using LinearAlgebra\n",
    "using Random\n",
    "using Printf\n",
    "\n",
    "# Function to create symmetric matrices with specific properties\n",
    "function generate_symmetric_matrix(size::Int, eigen_gap::Float64; random_state=42)\n",
    "    Random.seed!(random_state)\n",
    "    D = Diagonal([1.0, 1.0 / eigen_gap, fill(1.0 / (2 * eigen_gap), size - 2)...]) #Largest Eigenvalue is 1\n",
    "    Q = qr(randn(size, size)).Q  # Random orthogonal matrix\n",
    "    return Q * D * Q'  # Symmetric matrix\n",
    "end\n",
    "\n",
    "# Function to create a non-symmetric matrix\n",
    "function generate_nonsymmetric_matrix(size::Int; random_state=42)\n",
    "    Random.seed!(random_state)\n",
    "    return randn(size, size)\n",
    "end\n",
    "\n",
    "# Function to test the Power and QR methods\n",
    "function test_methods()\n",
    "    sizes = [10, 100, 1000]  \n",
    "    eigen_gaps = [25.0, 5.0, 1.0] \n",
    "    iterations = 100\n",
    "    tolerance = 1e-6\n",
    "\n",
    "    println(\"Testing Power and QR Methods\\n\")\n",
    "\n",
    "    for size in sizes\n",
    "        for eigen_gap in eigen_gaps\n",
    "            # Generate a symmetric matrix\n",
    "            A_sym = generate_symmetric_matrix(size, eigen_gap)\n",
    "            println(@sprintf(\"Symmetric Matrix: size=%d, eigen_gap=%.2f\", size, eigen_gap))\n",
    "\n",
    "            # Test Power Method\n",
    "            power_converged, power_vec, power_val = power_method(A_sym, iterations, tolerance)\n",
    "            println(\"  Power Method converged? \", power_converged)\n",
    "            println(\"  Largest eigenvalue (Power Method): \", power_val)\n",
    "\n",
    "            # Test QR Method\n",
    "            qr_converged, qr_vals = qr_method(A_sym, iterations, tolerance)\n",
    "            println(\"  QR Method converged? \", qr_converged)\n",
    "        end\n",
    "\n",
    "        # Generate a non-symmetric matrix\n",
    "        A_nonsym = generate_nonsymmetric_matrix(size)\n",
    "        println(@sprintf(\"Non-symmetric Matrix: size=%d\", size))\n",
    "\n",
    "        # Test Power Method on non-symmetric matrix\n",
    "        power_converged, _, _ = power_method(A_nonsym, iterations, tolerance)\n",
    "        println(\"  Power Method converged? \", power_converged)\n",
    "\n",
    "        # Test QR Method on non-symmetric matrix\n",
    "        qr_converged, _ = qr_method(A_nonsym, iterations, tolerance)\n",
    "        println(\"  QR Method converged? \", qr_converged)\n",
    "    end\n",
    "end\n",
    "\n",
    "test_methods()"
   ]
  },
  {
   "cell_type": "code",
   "execution_count": 5,
   "metadata": {},
   "outputs": [
    {
     "data": {
      "text/plain": [
       "power_method_speed (generic function with 3 methods)"
      ]
     },
     "execution_count": 5,
     "metadata": {},
     "output_type": "execute_result"
    }
   ],
   "source": [
    "function power_method_speed(A, max_iter=100, tol=1e-6)\n",
    "    n = size(A, 1)\n",
    "    x = rand(n)\n",
    "    x /= norm(x)\n",
    "    λ_old = 0.0\n",
    "    iter_count = 0\n",
    "\n",
    "    for k in 1:max_iter\n",
    "        x = A * x\n",
    "        x /= norm(x)\n",
    "        λ_new = dot(x, A * x) / dot(x, x)\n",
    "        iter_count += 1\n",
    "        if abs(λ_new - λ_old) < tol\n",
    "            return iter_count, x, λ_new\n",
    "        end\n",
    "        λ_old = λ_new\n",
    "    end\n",
    "    return max_iter, x, λ_old\n",
    "end\n"
   ]
  },
  {
   "cell_type": "code",
   "execution_count": 6,
   "metadata": {},
   "outputs": [
    {
     "data": {
      "text/plain": [
       "qr_method_speed (generic function with 3 methods)"
      ]
     },
     "execution_count": 6,
     "metadata": {},
     "output_type": "execute_result"
    }
   ],
   "source": [
    "function qr_method_speed(A, max_iter=100, tol=1e-6)\n",
    "    Ak = A\n",
    "    n = size(A, 1)\n",
    "    iter_count = 0\n",
    "\n",
    "    for k in 1:max_iter\n",
    "        Q, R = qr(Ak)\n",
    "        Ak = R * Q\n",
    "        iter_count += 1\n",
    "        if maximum(abs.(Ak .- Diagonal(diag(Ak)))) < tol\n",
    "            return iter_count, diag(Ak)\n",
    "        end\n",
    "    end\n",
    "    return max_iter, diag(Ak)\n",
    "end\n"
   ]
  },
  {
   "cell_type": "code",
   "execution_count": 8,
   "metadata": {},
   "outputs": [
    {
     "name": "stdout",
     "output_type": "stream",
     "text": [
      "Testing Power Method Speed and QR Method Speed\n",
      "\n",
      "Symmetric Matrix: size=10, eigen_gap=10.00\n",
      "  Power Method: iterations=4, eigenvalue=1.000000\n",
      "  QR Method: iterations=20, eigenvalues=1.000000, ...\n",
      "Symmetric Matrix: size=10, eigen_gap=5.00\n",
      "  Power Method: iterations=5, eigenvalue=1.000000\n",
      "  QR Method: iterations=21, eigenvalues=1.000000, ...\n",
      "Symmetric Matrix: size=10, eigen_gap=2.00\n",
      "  Power Method: iterations=10, eigenvalue=1.000000\n",
      "  QR Method: iterations=22, eigenvalues=1.000000, ...\n",
      "Symmetric Matrix: size=10, eigen_gap=1.00\n",
      "  Power Method: iterations=12, eigenvalue=1.000000\n",
      "  QR Method: iterations=25, eigenvalues=1.000000, ...\n",
      "Symmetric Matrix: size=100, eigen_gap=10.00\n",
      "  Power Method: iterations=5, eigenvalue=1.000000\n",
      "  QR Method: iterations=22, eigenvalues=1.000000, ...\n",
      "Symmetric Matrix: size=100, eigen_gap=5.00\n",
      "  Power Method: iterations=6, eigenvalue=1.000000\n",
      "  QR Method: iterations=23, eigenvalues=1.000000, ...\n",
      "Symmetric Matrix: size=100, eigen_gap=2.00\n",
      "  Power Method: iterations=8, eigenvalue=1.000000\n",
      "  QR Method: iterations=25, eigenvalues=1.000000, ...\n",
      "Symmetric Matrix: size=100, eigen_gap=1.00\n",
      "  Power Method: iterations=14, eigenvalue=1.000000\n",
      "  QR Method: iterations=28, eigenvalues=1.000000, ...\n",
      "Symmetric Matrix: size=1000, eigen_gap=10.00\n",
      "  Power Method: iterations=5, eigenvalue=1.000000\n",
      "  QR Method: iterations=18, eigenvalues=1.000000, ...\n",
      "Symmetric Matrix: size=1000, eigen_gap=5.00\n",
      "  Power Method: iterations=6, eigenvalue=1.000000\n",
      "  QR Method: iterations=19, eigenvalues=1.000000, ...\n",
      "Symmetric Matrix: size=1000, eigen_gap=2.00\n",
      "  Power Method: iterations=10, eigenvalue=1.000000\n",
      "  QR Method: iterations=21, eigenvalues=1.000000, ...\n",
      "Symmetric Matrix: size=1000, eigen_gap=1.00\n",
      "  Power Method: iterations=15, eigenvalue=1.000000\n",
      "  QR Method: iterations=25, eigenvalues=1.000000, ...\n"
     ]
    }
   ],
   "source": [
    "using LinearAlgebra\n",
    "using Random\n",
    "using Printf\n",
    "\n",
    "# Function to create symmetric matrices with specific properties\n",
    "function generate_symmetric_matrix(size::Int, eigen_gap::Float64; random_state=42)\n",
    "    Random.seed!(random_state)\n",
    "    D = Diagonal([1.0, 1.0 / eigen_gap, fill(1.0 / (2 * eigen_gap), size - 2)...]) #Largest Eigenvalue is 1\n",
    "    Q = qr(randn(size, size)).Q  # Random orthogonal matrix\n",
    "    return Q * D * Q'  # Symmetric matrix\n",
    "end\n",
    "\n",
    "# Function to test Power Method Speed and QR Method Speed\n",
    "function test_speed_methods()\n",
    "    sizes = [10, 100, 1000] \n",
    "    eigen_gaps = [10.0, 5.0, 2.0, 1.0]  \n",
    "    iterations = 100\n",
    "    tolerance = 1e-6\n",
    "\n",
    "    println(\"Testing Power Method Speed and QR Method Speed\\n\")\n",
    "\n",
    "    for size in sizes\n",
    "        for eigen_gap in eigen_gaps\n",
    "            # Generate a symmetric matrix\n",
    "            A = generate_symmetric_matrix(size, eigen_gap)\n",
    "            println(@sprintf(\"Symmetric Matrix: size=%d, eigen_gap=%.2f\", size, eigen_gap))\n",
    "\n",
    "            # Test Power Method Speed\n",
    "            power_iter_count, power_vec, power_val = power_method_speed(A, iterations, tolerance)\n",
    "            println(@sprintf(\"  Power Method: iterations=%d, eigenvalue=%.6f\", power_iter_count, power_val))\n",
    "\n",
    "            # Test QR Method Speed\n",
    "            qr_iter_count, qr_vals = qr_method_speed(A, iterations, tolerance)\n",
    "            println(@sprintf(\"  QR Method: iterations=%d, eigenvalues=%.6f, ...\", qr_iter_count, qr_vals[1]))\n",
    "        end\n",
    "    end\n",
    "end\n",
    "\n",
    "# Call the test function\n",
    "test_speed_methods()\n"
   ]
  }
 ],
 "metadata": {
  "kernelspec": {
   "display_name": "Julia 1.10.4",
   "language": "julia",
   "name": "julia-1.10"
  },
  "language_info": {
   "file_extension": ".jl",
   "mimetype": "application/julia",
   "name": "julia",
   "version": "1.10.4"
  }
 },
 "nbformat": 4,
 "nbformat_minor": 2
}
